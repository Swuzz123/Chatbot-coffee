{
 "cells": [
  {
   "cell_type": "code",
   "execution_count": 18,
   "id": "8668db7f",
   "metadata": {},
   "outputs": [],
   "source": [
    "import os\n",
    "import re\n",
    "import pandas as pd\n",
    "import numpy as np\n",
    "from dotenv import load_dotenv\n",
    "from sentence_transformers import SentenceTransformer\n",
    "from pymilvus import connections, Collection, utility\n",
    "from huggingface_hub import login"
   ]
  },
  {
   "cell_type": "markdown",
   "id": "e820c0b7",
   "metadata": {},
   "source": [
    "### **Connect to Milvus Database**"
   ]
  },
  {
   "cell_type": "code",
   "execution_count": 19,
   "id": "ce949ebf",
   "metadata": {},
   "outputs": [
    {
     "name": "stderr",
     "output_type": "stream",
     "text": [
      "Note: Environment variable`HF_TOKEN` is set and is the current active token independently from the token you've just configured.\n"
     ]
    }
   ],
   "source": [
    "load_dotenv()\n",
    "login(os.getenv(\"HF_TOKEN\"))"
   ]
  },
  {
   "cell_type": "code",
   "execution_count": 20,
   "id": "52e73511",
   "metadata": {},
   "outputs": [
    {
     "name": "stdout",
     "output_type": "stream",
     "text": [
      "Connected to Milvus server\n"
     ]
    }
   ],
   "source": [
    "connections.connect(host=\"localhost\", port=\"19530\")\n",
    "print(\"Connected to Milvus server\")"
   ]
  },
  {
   "cell_type": "code",
   "execution_count": 21,
   "id": "650239fd",
   "metadata": {},
   "outputs": [],
   "source": [
    "# Check collection\n",
    "COLLECTION_NAME = \"coffee_embeddings\"\n",
    "if not utility.has_collection(COLLECTION_NAME):\n",
    "    print(f\"Collection {COLLECTION_NAME} does not exist\")\n",
    "    exit(1)"
   ]
  },
  {
   "cell_type": "code",
   "execution_count": 22,
   "id": "95878d3d",
   "metadata": {},
   "outputs": [
    {
     "name": "stdout",
     "output_type": "stream",
     "text": [
      "Loaded collection coffee_embeddings\n"
     ]
    }
   ],
   "source": [
    "collection = Collection(COLLECTION_NAME)\n",
    "collection.load()\n",
    "print(f\"Loaded collection {COLLECTION_NAME}\")"
   ]
  },
  {
   "cell_type": "markdown",
   "id": "79c777d8",
   "metadata": {},
   "source": [
    "### **Preprocess text and Create embedding vector**"
   ]
  },
  {
   "cell_type": "code",
   "execution_count": 23,
   "id": "d3a38188",
   "metadata": {},
   "outputs": [],
   "source": [
    "# Preprocess text function\n",
    "def preprocess_text(text):\n",
    "    text = text.lower()\n",
    "    text = re.sub(r\"[^\\w\\s]\", \"\", text)  # Remove punctuation\n",
    "    text = re.sub(r\"\\d+\", \"\", text)      # Remove numbers\n",
    "    text = re.sub(r\"\\s+\", \" \", text)     # Remove extra spaces\n",
    "    return text.strip()\n",
    "\n",
    "# Create embedding function \n",
    "def emb_text(text):\n",
    "    embed_model = SentenceTransformer(\"keepitreal/vietnamese-sbert\")\n",
    "    text = preprocess_text(text)\n",
    "    embeddings = embed_model.encode(text, convert_to_numpy=True, show_progress_bar=False)\n",
    "    return embeddings"
   ]
  },
  {
   "cell_type": "code",
   "execution_count": null,
   "id": "8c5ae405",
   "metadata": {},
   "outputs": [],
   "source": [
    "def print_results(results, ascending=True):\n",
    "    if not results or len(results[0]) == 0:\n",
    "        print(\"There are no results\")\n",
    "        return\n",
    "    \n",
    "    sorted_results = sorted(results[0], key=lambda x: x.distance, reverse=not ascending)\n",
    "    \n",
    "    print(\"Top matching results:\")\n",
    "    for result in sorted_results:\n",
    "        print(f\"ProductID: {result.entity.get('ProductID')}\")\n",
    "        print(f\"Title: {result.entity.get('Title')}\")\n",
    "        print(f\"Price: {result.entity.get('Price')}\")\n",
    "        print(f\"Description: {result.entity.get('Description')}\")\n",
    "        print(f\"Main category: {result.entity.get('Main_category')}\")\n",
    "        print(f\"Sub category: {result.entity.get('Sub_category')}\")\n",
    "        print(f\"Image URL: {result.entity.get('Image_url')}\")\n",
    "        print(f\"Distance: {result.distance:.4f}\")\n",
    "        print(\"-\" * 50)"
   ]
  },
  {
   "cell_type": "markdown",
   "id": "c50fdddd",
   "metadata": {},
   "source": [
    "#### **1. Vector Search**"
   ]
  },
  {
   "cell_type": "code",
   "execution_count": null,
   "id": "95939980",
   "metadata": {},
   "outputs": [
    {
     "name": "stdout",
     "output_type": "stream",
     "text": [
      "Top matching results:\n",
      "ProductID: 6\n",
      "Title: Latte Hazelnut\n",
      "Price: 59000\n",
      "Description: Latte Hazelnut là sự kết hợp giữa Espresso đậm đà, sữa tươi béo ngậy, và syrup hạt phỉ ngọt nhẹ, mang đến một hương vị thơm lừng, béo ngậy và mát lạnh. Thức uống này mang đến sự hòa quyện hoàn hảo giữa cà phê và hương vị hạt phỉ, tạo nên một trải nghiệm dễ chịu và thơm ngon.\n",
      "Main category: Cà phê\n",
      "Sub category: Cà phê máy\n",
      "Image URL: http://product.hstatic.net/1000075078/product/1746441372_halzenut-latte_3ef994056c3b4765a600e853f6cca72d_grande.png\n",
      "Distance: 118.4600\n",
      "--------------------------------------------------\n",
      "ProductID: 4\n",
      "Title: Latte Bạc Xỉu\n",
      "Price: 49000\n",
      "Description: Latte Bạc Xỉu là sự kết hợp giữa Espresso, sữa tươi béo ngậy và cà phê phin đậm đà, tạo ra một hương vị vừa ngọt nhẹ, vừa đậm đà, dễ uống và mát lạnh.\n",
      "Main category: Cà phê\n",
      "Sub category: Cà phê máy\n",
      "Image URL: http://product.hstatic.net/1000075078/product/1746441267_latte-bac-xiu_a6fe420fef6f4ec7a2e4f87e9e03ef4b_grande.png\n",
      "Distance: 117.7556\n",
      "--------------------------------------------------\n",
      "ProductID: 8\n",
      "Title: Latte Almond\n",
      "Price: 59000\n",
      "Description: Latte Almond là sự kết hợp giữa Espresso đậm đà, sữa tươi béo ngậy, và syrup hạnh nhân thơm lừng, mang đến một hương vị ngọt nhẹ, béo ngậy và mát lạnh. Thức uống này tạo nên sự hòa quyện tuyệt vời giữa cà phê và vị hạnh nhân đặc trưng, đem lại cảm giác dễ chịu và độc đáo.\n",
      "Main category: Cà phê\n",
      "Sub category: Cà phê máy\n",
      "Image URL: http://product.hstatic.net/1000075078/product/1746441513_almond-coffee_f0797787534a473ea51f29afaadf37d3_grande.png\n",
      "Distance: 117.0837\n",
      "--------------------------------------------------\n",
      "ProductID: 3\n",
      "Title: Latte Classic\n",
      "Price: 55000\n",
      "Description: Latte Đá là sự kết hợp hoàn hảo giữa espresso đậm đà và sữa tươi béo ngậy, tạo ra một hương vị dịu nhẹ, không quá đắng nhưng vẫn giữ được sự đậm đà của cà phê. Khi thêm đá lạnh, Latte Đá mang lại cảm giác mát lạnh, dễ uống, rất thích hợp cho những ngày nóng. Hương vị của sữa tươi hòa quyện với cà phê tạo nên một thức uống thơm ngon, thanh mát nhưng vẫn đầy đủ độ béo và sự ngọt nhẹ.\n",
      "Main category: Cà phê\n",
      "Sub category: Cà phê máy\n",
      "Image URL: http://product.hstatic.net/1000075078/product/1746439218_latte-classic_e216596a8267420b9e55714322ac2d8f_grande.png\n",
      "Distance: 109.4909\n",
      "--------------------------------------------------\n",
      "ProductID: 85\n",
      "Title: Latte Nóng\n",
      "Price: 59000\n",
      "Description: Một sự kết hợp tinh tế giữa vị đắng cà phê Espresso nguyên chất hòa quyện cùng vị sữa nóng ngọt ngào, bên trên là một lớp kem mỏng nhẹ tạo nên một tách cà phê hoàn hảo về hương vị lẫn nhãn quan.\n",
      "Main category: Cà phê\n",
      "Sub category: Cà phê máy\n",
      "Image URL: http://product.hstatic.net/1000075078/product/1737357451_latte-nong_5072d19ea4af4c28a1f9f307e49d3af9_grande.png\n",
      "Distance: 108.6332\n",
      "--------------------------------------------------\n"
     ]
    }
   ],
   "source": [
    "# Example query\n",
    "query = \"Latte Classic\"\n",
    "query_embedding = emb_text(query)\n",
    "\n",
    "# Vector search (can be called ANN search)\n",
    "search_params = {\"metric_type\": \"L2\", \"params\": {\"nprobe\": 6}}\n",
    "results = collection.search(\n",
    "    data=[query_embedding],\n",
    "    anns_field=\"embedding\",\n",
    "    param=search_params,\n",
    "    limit=5,\n",
    "    expr='Main_category == \"Cà phê\" and Sub_category == \"Cà phê máy\"',\n",
    "    output_fields=[\"Title\", \"Price\", \"Description\", \"Main_category\", \"Sub_category\", \"Image_url\"]\n",
    ")\n",
    "\n",
    "print_results(results, ascending=False)"
   ]
  },
  {
   "cell_type": "markdown",
   "id": "bc1db1d8",
   "metadata": {},
   "source": [
    "#### **2. Optimization**"
   ]
  },
  {
   "cell_type": "markdown",
   "id": "0428bead",
   "metadata": {},
   "source": [
    "**Case 1: If the customer directly asks to buy that item, then respond accurately.**"
   ]
  },
  {
   "cell_type": "code",
   "execution_count": 24,
   "id": "c7ae5935",
   "metadata": {},
   "outputs": [],
   "source": [
    "# Category mappings\n",
    "mappings = {\n",
    "    'Cà phê': {\n",
    "        'Cà phê máy': ['Latte Classic', 'Latte Bạc Xỉu', 'Latte Coconut', 'Latte Hazelnut', 'Latte Caramel', 'Latte Almond', 'Latte Nóng'],\n",
    "        'Cà phê phin': ['Bạc Xỉu Foam Dừa', 'Bạc Xỉu Caramel Muối', 'Đường Đen Sữa Đá','Bạc Xỉu Nóng',\n",
    "                        'Bạc Xỉu', 'Cà Phê Sữa Đá', 'Cà Phê Đen Đá', 'Cà Phê Sữa Nóng', 'Cà Phê Đen Nóng'],\n",
    "        'Cold Brew': ['Cold Brew Kim Quất', 'Cold Brew Sữa Tươi', 'Cold Brew Truyền Thống'],\n",
    "        'A-Mê': ['A-Mê Tuyết Quất', 'A-Mê Tuyết Mơ', 'A-Mê Tuyết Đào', 'A-Mê Quất', 'A-Mê Mơ', 'A-Mê Đào', 'A-Mê Classic', 'Americano Nóng'],\n",
    "        'Espresso': ['Espresso Đá','Cappuccino Đá', 'Caramel Macchiato Đá', 'Cappuccino Nóng', 'Caramel Macchiato Nóng', 'Espresso Nóng']\n",
    "    },\n",
    "\n",
    "    'Thức uống đá xay': {\n",
    "        'Đá xay': ['Frosty Cà Phê Đường Đen', 'Frosty Caramel Arabica', 'Frosty Bánh Kem Dâu', 'Frosty Phin-Gato', 'Frosty Trà Xanh',\n",
    "                   'Frosty Cà Phê Đường Đen', 'Frosty Caramel Arabica', 'Frosty Phin-Gato', 'Frosty Trà Xanh', 'Frosty Bánh Kem Dâu'],\n",
    "        'Đá xay có lớp whipping cream': ['Frappe Choco Chip', 'Frappe Hazelnut', 'Frappe Caramel', 'Frappe Almond', 'Frappe Espresso', 'Frappe Coconut Coffee', 'Frappe Matcha'],\n",
    "    },\n",
    "\n",
    "    'Matcha': {\n",
    "        '': ['Matcha Yuzu Đá Xay', 'Matcha Yuzu', 'Matcha Đào Đá Xay', 'Matcha Đào', 'Matcha Okinawa Trân Châu Hoàng Kim', 'Matcha Sữa Dừa Đá Xay', 'Matcha Sữa Dừa',\n",
    "            'Matcha Latte', 'Matcha Tinh Khiết', 'Trà Xanh - Xinh Chẳng Phai', 'Trà Xanh - Yêu Chẳng Phai', 'Matcha Latte Tây Bắc Sữa Yến Mạch', 'Trà Xanh Tây Bắc',\n",
    "            'Matcha Latte Tây Bắc Sữa Yến Mạch (Nóng)', 'Trà Xanh Nước Dừa', 'Trà Xanh Nước Dừa Yuzu', 'Matcha Latte Tây Bắc (Nóng)', 'Matcha Latte Tây Bắc']\n",
    "    },\n",
    "\n",
    "    'Trà trái cây - Hi Tea': {\n",
    "        'Hi Tea': ['Hi-Tea Yuzu Kombucha', 'Hi-Tea Đào Kombucha', 'Hi-Tea - Xinh Chẳng Phai', 'Hi-Tea Đào', 'Hi-Tea Vải', 'Hi-Tea Yuzu Trân Châu', 'Hi-Tea - Yêu Chẳng Phai',\n",
    "                   'Hi-Tea Đá Tuyết Mận Muối Trân Châu', 'Hi-Tea Dâu Tây Mận Muối Trân Châu', 'Hi-Tea Kim Quất Bưởi Hồng Mandarin', 'Dâu Phô Mai'],\n",
    "        'Trà trái cây': ['Oolong Tứ Quý Sen',  'Oolong Tứ Quý Sen (Nóng)', 'Oolong Tứ Quý Dâu Trân Châu', 'Oolong Tứ Quý Vải',\n",
    "                         'Oolong Tứ Quý Kim Quất Trân Châu', 'Trà Đào Cam Sả - Nóng', 'Trà Đào Cam Sả - Đá', 'Oolong Berry']\n",
    "    },\n",
    "\n",
    "    'Trà sữa': {\n",
    "        '': ['Trà sữa Oolong Nướng Trân Châu', 'Trà Đen Macchiato', 'Hồng Trà Sữa Trân Châu', 'Hồng Trà Sữa Nóng',\n",
    "            'Trà Sữa Oolong Tứ Quý Sương Sáo', 'Trà Sữa Oolong Nướng Sương Sáo','Trà Đào - Yêu Chẳng Phai',\n",
    "            'Trà Sữa Oolong BLao', 'Trà sữa Oolong Nướng (Nóng)', 'Chocolate Nóng', 'Chocolate Đá']\n",
    "    },\n",
    "\n",
    "    'Bánh': {\n",
    "        'Bánh ngọt': ['Mochi Kem Trà Sữa Trân Châu', 'Mochi Kem Matcha', 'Mochi Kem Chocolate', 'Mochi Kem Việt Quất', 'Mochi Kem Phúc Bồn Tử',\n",
    "                      'Mousse Matcha', 'Mousse Tiramisu', 'Mousse Gấu Chocolate', 'Matcha Burnt Cheesecake', 'Burnt Cheesecake', 'Mít Sấy', 'Butter Croissant Sữa Đặc'],\n",
    "        'Bánh mặn': ['Bánh Mì Que Bò Nấm Xốt Bơ', 'Bánh Mì Que Chà Bông Phô Mai Bơ Cay', 'Bánh Mì Que Pate Cột Đèn', 'Chà Bông Phô Mai', 'Croissant trứng muối', 'Butter Croissant']\n",
    "    },\n",
    "\n",
    "    'Đồ ăn chế biến': {\n",
    "        '': ['Spaghetti Bò Bằm', 'Cơm Chiên Hải Sản']\n",
    "    },\n",
    "\n",
    "    'Cà phê gói mang đi': {\n",
    "        '': ['Cà Phê Đen Đá Túi (30 gói x 16g)', 'Cà Phê Đen Đá Hộp (14 gói x 16g)', 'Cà Phê Hoà Tan Đậm Vị Việt (18 gói x 16 gam)',\n",
    "            'Cà Phê Sữa Đá Hòa Tan Túi 25x22G', 'Cà Phê Rang Xay Original 1 250G', 'Cà Phê Sữa Đá Hòa Tan (10 gói x 22g)', 'Cà Phê Nguyên Hạt Arabica TCH (200gr)']\n",
    "    }\n",
    "}"
   ]
  },
  {
   "cell_type": "code",
   "execution_count": 25,
   "id": "a0b4ac1d",
   "metadata": {},
   "outputs": [],
   "source": [
    "# Function to determine if the query is an exact item\n",
    "def is_exact_item(query):\n",
    "    query = query.strip().lower()\n",
    "    for main_cat, sub_cats in mappings.items():\n",
    "        for sub_cat, items in sub_cats.items():\n",
    "            for item in items:\n",
    "                if item.lower() in query:\n",
    "                    return True, item           # Return True and the original item name\n",
    "    return False, None"
   ]
  },
  {
   "cell_type": "code",
   "execution_count": 26,
   "id": "d10859f5",
   "metadata": {},
   "outputs": [],
   "source": [
    "# Function to search exact item\n",
    "def search_exact_item(exact_title):\n",
    "\n",
    "    expr = f'Title == \"{exact_title}\"'    \n",
    "    try: \n",
    "        search_results = collection.search(\n",
    "            data = [emb_text(preprocess_text(exact_title))],\n",
    "            anns_field=\"embedding\",\n",
    "            param={\"metric_type\": \"L2\", \"params\": {\"nprobe\": 8}},\n",
    "            limit=1,\n",
    "            expr=expr,\n",
    "            output_fields=[\"Title\", \"Price\", \"Description\", \"Image_url\"]\n",
    "        )\n",
    "    \n",
    "        retrieval_results = [\n",
    "            {\n",
    "                \"title\": hit.entity.get(\"Title\"),\n",
    "                \"description\": hit.entity.get(\"Description\"),\n",
    "                \"price\": hit.entity.get(\"Price\"),\n",
    "                \"image_url\": hit.entity.get(\"Image_url\"),\n",
    "            }\n",
    "            for hit in search_results[0]\n",
    "        ]\n",
    "        return retrieval_results\n",
    "    except Exception as e:\n",
    "        print(f\"Error search: {e}\")\n",
    "        return None"
   ]
  },
  {
   "cell_type": "markdown",
   "id": "ba18dce9",
   "metadata": {},
   "source": [
    "#### **Case 2: When the user asks a general question about a type of beverage/food**"
   ]
  },
  {
   "cell_type": "code",
   "execution_count": 29,
   "id": "ac16bb58",
   "metadata": {},
   "outputs": [],
   "source": [
    "sub_category_keywords = {\n",
    "    'Cà phê máy': ['pha máy', 'latte'],\n",
    "    'Cà phê phin': ['phin', 'bạc xỉu', 'đen đá', 'sữa đá'],\n",
    "    'A-Mê': ['a-mê', 'americano'],\n",
    "    'Espresso': ['espresso', 'cappuccino', 'caramel'],\n",
    "    'Đá xay': ['đá xay', 'frosty'],\n",
    "    'Đá xay có lớp whipping cream': ['frappe', 'whipping cream'],\n",
    "    'Matcha': ['matcha', 'trà xanh'],\n",
    "    'Trà trái cây': ['trà trái cây', 'oolong', 'đào cam sả'],\n",
    "    'Trà sữa': ['trà sữa', 'hồng trà', 'chocolate'],\n",
    "    'Bánh ngọt': ['bánh ngọt', 'mochi kem', 'mousse', 'cheesecake', 'croissant sữa đặc'],\n",
    "    'Bánh mặn': ['bánh mặn', 'bánh mì', 'croissant trứng muối', 'chà bông']\n",
    "}\n",
    "\n",
    "# Function to find product based on keywords from items\n",
    "def find_items_by_keyword(query, keyword):\n",
    "    query = query.lower()\n",
    "    keyword = keyword.lower()\n",
    "    matched_items = []\n",
    "    \n",
    "    for main_cat, sub_cats in mappings.items():\n",
    "        for sub_cat, items in sub_cats.items():\n",
    "            for item in items:\n",
    "                if keyword in item.lower():\n",
    "                    matched_items.append((item, main_cat, sub_cat))\n",
    "                    \n",
    "    return matched_items\n",
    "    \n",
    "# Function to determine category from query\n",
    "def get_category_from_query(query):\n",
    "    query = query.lower()\n",
    "    \n",
    "    # 1. Check keyword-based item search (ví dụ: \"latte\" -> tất cả món có \"latte\")\n",
    "    for sub_cat, keywords in sub_category_keywords.items():\n",
    "        for keyword in keywords:\n",
    "            if keyword in query:\n",
    "                matched_items = find_items_by_keyword(query, keyword)\n",
    "                if matched_items:\n",
    "                    return None, None, matched_items  # Trả về danh sách món matched\n",
    "    \n",
    "    # 2. Check sub_category keywords\n",
    "    for main_cat, sub_cats in mappings.items():\n",
    "        for sub_cat in sub_cats.keys():\n",
    "            if sub_cat:\n",
    "                keywords = sub_category_keywords.get(sub_cat, [])\n",
    "                if any(keyword in query for keyword in keywords):\n",
    "                    return main_cat, sub_cat, None\n",
    "    \n",
    "    # 3. Check main_category\n",
    "    for main_cat in mappings.keys():\n",
    "        if main_cat.lower() in query:\n",
    "            return main_cat, None, None\n",
    "    \n",
    "    return None, None, None"
   ]
  },
  {
   "cell_type": "code",
   "execution_count": 30,
   "id": "b251ead4",
   "metadata": {},
   "outputs": [],
   "source": [
    "def general_search_and_recommend(query, limit):\n",
    "    query_embedding = emb_text(query)\n",
    "    \n",
    "    main_cat, sub_cat, matched_items = get_category_from_query(query)\n",
    "    print(main_cat, sub_cat, matched_items)\n",
    "    \n",
    "    # Trường hợp keyword-based\n",
    "    if matched_items:\n",
    "        expr = ' or '.join([f'Title == \"{item[0]}\"' for item in matched_items])\n",
    "        try:\n",
    "            search_results = collection.search(\n",
    "                data=[query_embedding],\n",
    "                anns_field=\"embedding\",\n",
    "                param={\"metric_type\": \"L2\", \"params\": {\"nprobe\": 8}},\n",
    "                limit=len(matched_items),\n",
    "                expr=expr,\n",
    "                output_fields=[\"Title\", \"Price\", \"Description\", \"Image_url\"]\n",
    "            )\n",
    "            \n",
    "            retrieval_results = [\n",
    "                {\n",
    "                    \"title\": hit.entity.get(\"Title\", \"N/A\"),\n",
    "                    \"description\": hit.entity.get(\"Description\", \"\"),\n",
    "                    \"price\": hit.entity.get(\"Price\", \"Liên hệ\"),\n",
    "                    \"image_url\": hit.entity.get(\"Image_url\", \"\")\n",
    "                }\n",
    "                for hit in search_results[0][:limit]\n",
    "            ]\n",
    "            \n",
    "            return retrieval_results\n",
    "        except Exception as e:\n",
    "            print(f\"Search error: {e}\")\n",
    "            return \"Xin lỗi, hệ thống đang bận.\"\n",
    "    \n",
    "    # Trường hợp main_cat/sub_cat\n",
    "    if main_cat and sub_cat is None:\n",
    "        sub_list = [k for k in mappings[main_cat].keys() if k] or ['']\n",
    "        if len(sub_list) > 1:\n",
    "            final_ans = \", \".join(sub_list[:-1]) + f\" và {sub_list[-1]}\" if len(sub_list) > 1 else sub_list[0]\n",
    "            return f\"Quán có các loại {main_cat.lower()} như: {final_ans}. Bạn muốn thử loại nào?\"\n",
    "        else:\n",
    "            sub_cat = sub_list[0]\n",
    "    \n",
    "    expr = ''\n",
    "    if main_cat:\n",
    "        expr = f'Main_category == \"{main_cat}\"'\n",
    "        if sub_cat is not None:\n",
    "            expr += f' and Sub_category == \"{sub_cat}\"'\n",
    "    \n",
    "    try:\n",
    "        search_results = collection.search(\n",
    "            data=[query_embedding],\n",
    "            anns_field=\"embedding\",\n",
    "            param={\"metric_type\": \"L2\", \"params\": {\"nprobe\": 8}},\n",
    "            limit=limit,\n",
    "            expr=expr,\n",
    "            output_fields=[\"Title\", \"Price\", \"Description\", \"Image_url\"]\n",
    "        )\n",
    "        retrieval_results = [\n",
    "            {\n",
    "                \"title\": hit.entity.get(\"Title\", \"N/A\"),\n",
    "                \"description\": hit.entity.get(\"Description\", \"\"),\n",
    "                \"price\": hit.entity.get(\"Price\", \"Liên hệ\"),\n",
    "                \"image_url\": hit.entity.get(\"Image_url\", \"\")\n",
    "            }\n",
    "            for hit in search_results[0][:limit]\n",
    "        ]\n",
    "        \n",
    "        if retrieval_results:\n",
    "            return retrieval_results\n",
    "        else: return None\n",
    "    except Exception as e:\n",
    "        print(f\"Search error: {e}\")\n",
    "        return \"Xin lỗi, hệ thống đang bận.\""
   ]
  },
  {
   "cell_type": "code",
   "execution_count": 16,
   "id": "1c479fef",
   "metadata": {},
   "outputs": [
    {
     "name": "stdout",
     "output_type": "stream",
     "text": [
      "Cà phê None None\n"
     ]
    }
   ],
   "source": [
    "query3 = \"Quán mình có những loại cà phê nào nhỉ?\"\n",
    "retrieval3 = general_search_and_recommend(query3, limit=5)"
   ]
  },
  {
   "cell_type": "code",
   "execution_count": 17,
   "id": "a3ddfdf6",
   "metadata": {},
   "outputs": [
    {
     "data": {
      "text/plain": [
       "'Quán có các loại cà phê như: Cà phê máy, Cà phê phin, Cold Brew, A-Mê và Espresso. Bạn muốn thử loại nào?'"
      ]
     },
     "execution_count": 17,
     "metadata": {},
     "output_type": "execute_result"
    }
   ],
   "source": [
    "retrieval3"
   ]
  },
  {
   "cell_type": "code",
   "execution_count": 18,
   "id": "8660a6c3",
   "metadata": {},
   "outputs": [
    {
     "name": "stdout",
     "output_type": "stream",
     "text": [
      "None None [('Frappe Matcha', 'Thức uống đá xay', 'Đá xay có lớp whipping cream'), ('Matcha Yuzu Đá Xay', 'Matcha', ''), ('Matcha Yuzu', 'Matcha', ''), ('Matcha Đào Đá Xay', 'Matcha', ''), ('Matcha Đào', 'Matcha', ''), ('Matcha Okinawa Trân Châu Hoàng Kim', 'Matcha', ''), ('Matcha Sữa Dừa Đá Xay', 'Matcha', ''), ('Matcha Sữa Dừa', 'Matcha', ''), ('Matcha Latte', 'Matcha', ''), ('Matcha Tinh Khiết', 'Matcha', ''), ('Matcha Latte Tây Bắc Sữa Yến Mạch', 'Matcha', ''), ('Matcha Latte Tây Bắc Sữa Yến Mạch (Nóng)', 'Matcha', ''), ('Matcha Latte Tây Bắc (Nóng)', 'Matcha', ''), ('Matcha Latte Tây Bắc', 'Matcha', ''), ('Mochi Kem Matcha', 'Bánh', 'Bánh ngọt'), ('Mousse Matcha', 'Bánh', 'Bánh ngọt'), ('Matcha Burnt Cheesecake', 'Bánh', 'Bánh ngọt')]\n"
     ]
    }
   ],
   "source": [
    "query4 = \"Quán mình có những loại Matcha nào ngon vậy?\"\n",
    "retrieval4 = general_search_and_recommend(query4, limit=5)"
   ]
  },
  {
   "cell_type": "code",
   "execution_count": 19,
   "id": "597c97b4",
   "metadata": {},
   "outputs": [
    {
     "data": {
      "text/plain": [
       "[{'title': 'Matcha Latte',\n",
       "  'description': 'Matcha Nhật Bản hảo hạng kết hợp sữa tươi mịn màng, cân bằng vị umami thanh nhẹ và độ béo dịu, mang đến thức uống thơm ngon, đầy năng lượng.',\n",
       "  'price': '55000',\n",
       "  'image_url': 'http://product.hstatic.net/1000075078/product/1745246722_matcha-latte_805657f9e18948e6a6218bbce3e8fbe4_grande.png'},\n",
       " {'title': 'Matcha Latte Tây Bắc',\n",
       "  'description': 'Best seller của Nhà - rất phù hợp cho ai muốn nhập môn matcha. *Khuấy đều để thưởng trọn hương vị.',\n",
       "  'price': '45000',\n",
       "  'image_url': 'http://product.hstatic.net/1000075078/product/1737355612_tx-latte_6909ebc57c8e4b1e9aeef7e5ecdd5f9d_grande.png'},\n",
       " {'title': 'Matcha Tinh Khiết',\n",
       "  'description': 'Matcha nguyên chất 100% từ Nhật Bản, không đường, không sữa, giữ trọn hương vị nguyên bản đậm đà.',\n",
       "  'price': '49000',\n",
       "  'image_url': 'http://product.hstatic.net/1000075078/product/1745246736_matcha-tinh-khiet_fecd3381031d43859cefb802337057bf_grande.png'},\n",
       " {'title': 'Matcha Burnt Cheesecake',\n",
       "  'description': 'Hòa quyện giữa phô mai béo ngậy và trà xanh đắng nhẹ, thơm lừng, tinh tế khó cưỡng.',\n",
       "  'price': '55000',\n",
       "  'image_url': 'http://product.hstatic.net/1000075078/product/1743674607_matcha-burnt-cheesecake_2b4a68367fb64d0fb9bb7eed5ca116f7_grande.png'},\n",
       " {'title': 'Matcha Sữa Dừa',\n",
       "  'description': 'Matcha Nhật Bản nguyên chất hòa cùng sữa dừa béo thơm, tạo nên ly latte êm mượt nhưng vẫn đậm đà, mang hương vị tự nhiên đầy thú vị.',\n",
       "  'price': '55000',\n",
       "  'image_url': 'http://product.hstatic.net/1000075078/product/1745246706_matcha-sua-dua_d3e07f1123d94de7a5b6df79e6ba6d88_grande.png'}]"
      ]
     },
     "execution_count": 19,
     "metadata": {},
     "output_type": "execute_result"
    }
   ],
   "source": [
    "retrieval4"
   ]
  },
  {
   "cell_type": "code",
   "execution_count": 20,
   "id": "bfbd5f83",
   "metadata": {},
   "outputs": [
    {
     "name": "stdout",
     "output_type": "stream",
     "text": [
      "None None [('Bánh Mì Que Bò Nấm Xốt Bơ', 'Bánh', 'Bánh mặn'), ('Bánh Mì Que Chà Bông Phô Mai Bơ Cay', 'Bánh', 'Bánh mặn'), ('Bánh Mì Que Pate Cột Đèn', 'Bánh', 'Bánh mặn')]\n"
     ]
    }
   ],
   "source": [
    "query5 = \"Quán mình có những loại bánh mì nào vậy?\"\n",
    "retrieval5 = general_search_and_recommend(query5, limit=5)"
   ]
  },
  {
   "cell_type": "code",
   "execution_count": 21,
   "id": "19ae0dcb",
   "metadata": {},
   "outputs": [
    {
     "data": {
      "text/plain": [
       "[{'title': 'Bánh Mì Que Pate Cột Đèn',\n",
       "  'description': 'Aiiiii Pate Cột Đèn đậm đà thơm béo hônggg? Rộp rộp vỏ bánh nóng hổi giòn rụm, thêm ngấu nghiến với pate cùng xốt bơ trứng đẫm vị.',\n",
       "  'price': '19000',\n",
       "  'image_url': 'http://product.hstatic.net/1000075078/product/1737355276_bmq-pate-hai-phong_8e0d00ff7cf44d4e9eb504948ed4697c_grande.png'},\n",
       " {'title': 'Bánh Mì Que Bò Nấm Xốt Bơ',\n",
       "  'description': 'Bò mềm thấm vị, nấm đông cô dai giòn. Rộp rộp vỏ bánh giòn rụm nóng hổi, thêm ngấu nghiến với xốt bơ béo bùi ngon số dzách.',\n",
       "  'price': '22000',\n",
       "  'image_url': 'http://product.hstatic.net/1000075078/product/1737355257_bmq-bo-nam_160a1e2a36b14f89b3ef0c61cda229ad_grande.png'},\n",
       " {'title': 'Bánh Mì Que Chà Bông Phô Mai Bơ Cay',\n",
       "  'description': 'Aiiiii Bánh Mì Chà Bông Phô Mai hônggg? Chà bông tơi mịn đẫm phô mai Mozzarella kéo sợi, cay hít hà. Rộp rộp vỏ bánh giòn rụm nóng hổi, thêm ngấu nghiến với xốt bơ đậm đà.',\n",
       "  'price': '22000',\n",
       "  'image_url': 'http://product.hstatic.net/1000075078/product/1737355270_bmq-cha-bong-pm_34e407eef2a947f28c6e9892e47b3f68_grande.png'}]"
      ]
     },
     "execution_count": 21,
     "metadata": {},
     "output_type": "execute_result"
    }
   ],
   "source": [
    "retrieval5"
   ]
  },
  {
   "cell_type": "code",
   "execution_count": 24,
   "id": "fe7247dd",
   "metadata": {},
   "outputs": [
    {
     "name": "stdout",
     "output_type": "stream",
     "text": [
      "None None [('Latte Classic', 'Cà phê', 'Cà phê máy'), ('Latte Bạc Xỉu', 'Cà phê', 'Cà phê máy'), ('Latte Coconut', 'Cà phê', 'Cà phê máy'), ('Latte Hazelnut', 'Cà phê', 'Cà phê máy'), ('Latte Caramel', 'Cà phê', 'Cà phê máy'), ('Latte Almond', 'Cà phê', 'Cà phê máy'), ('Latte Nóng', 'Cà phê', 'Cà phê máy'), ('Matcha Latte', 'Matcha', ''), ('Matcha Latte Tây Bắc Sữa Yến Mạch', 'Matcha', ''), ('Matcha Latte Tây Bắc Sữa Yến Mạch (Nóng)', 'Matcha', ''), ('Matcha Latte Tây Bắc (Nóng)', 'Matcha', ''), ('Matcha Latte Tây Bắc', 'Matcha', '')]\n"
     ]
    }
   ],
   "source": [
    "query6 = \"Quán có những loại Latte nào vậy?\"\n",
    "retrieval6 = general_search_and_recommend(query6, limit=5)"
   ]
  },
  {
   "cell_type": "code",
   "execution_count": 25,
   "id": "b216b56b",
   "metadata": {},
   "outputs": [
    {
     "data": {
      "text/plain": [
       "[{'title': 'Latte Almond',\n",
       "  'description': 'Latte Almond là sự kết hợp giữa Espresso đậm đà, sữa tươi béo ngậy, và syrup hạnh nhân thơm lừng, mang đến một hương vị ngọt nhẹ, béo ngậy và mát lạnh. Thức uống này tạo nên sự hòa quyện tuyệt vời giữa cà phê và vị hạnh nhân đặc trưng, đem lại cảm giác dễ chịu và độc đáo.',\n",
       "  'price': '59000',\n",
       "  'image_url': 'http://product.hstatic.net/1000075078/product/1746441513_almond-coffee_f0797787534a473ea51f29afaadf37d3_grande.png'},\n",
       " {'title': 'Latte Caramel',\n",
       "  'description': 'Latte Caramel là sự kết hợp giữa Espresso đậm đà, sữa tươi béo ngậy, và syrup caramel ngọt ngào, mang đến một hương vị thơm lừng, ngọt nhẹ và mát lạnh. Thức uống này tạo nên sự hài hòa giữa cà phê đậm và vị ngọt của caramel, đem lại cảm giác dễ chịu và thú vị.',\n",
       "  'price': '59000',\n",
       "  'image_url': 'http://product.hstatic.net/1000075078/product/1746441451_caramel-coffee_dc2004f6d8144f2f8b7512ba95319ef7_grande.png'},\n",
       " {'title': 'Latte Hazelnut',\n",
       "  'description': 'Latte Hazelnut là sự kết hợp giữa Espresso đậm đà, sữa tươi béo ngậy, và syrup hạt phỉ ngọt nhẹ, mang đến một hương vị thơm lừng, béo ngậy và mát lạnh. Thức uống này mang đến sự hòa quyện hoàn hảo giữa cà phê và hương vị hạt phỉ, tạo nên một trải nghiệm dễ chịu và thơm ngon.',\n",
       "  'price': '59000',\n",
       "  'image_url': 'http://product.hstatic.net/1000075078/product/1746441372_halzenut-latte_3ef994056c3b4765a600e853f6cca72d_grande.png'},\n",
       " {'title': 'Latte Nóng',\n",
       "  'description': 'Một sự kết hợp tinh tế giữa vị đắng cà phê Espresso nguyên chất hòa quyện cùng vị sữa nóng ngọt ngào, bên trên là một lớp kem mỏng nhẹ tạo nên một tách cà phê hoàn hảo về hương vị lẫn nhãn quan.',\n",
       "  'price': '59000',\n",
       "  'image_url': 'http://product.hstatic.net/1000075078/product/1737357451_latte-nong_5072d19ea4af4c28a1f9f307e49d3af9_grande.png'},\n",
       " {'title': 'Latte Classic',\n",
       "  'description': 'Latte Đá là sự kết hợp hoàn hảo giữa espresso đậm đà và sữa tươi béo ngậy, tạo ra một hương vị dịu nhẹ, không quá đắng nhưng vẫn giữ được sự đậm đà của cà phê. Khi thêm đá lạnh, Latte Đá mang lại cảm giác mát lạnh, dễ uống, rất thích hợp cho những ngày nóng. Hương vị của sữa tươi hòa quyện với cà phê tạo nên một thức uống thơm ngon, thanh mát nhưng vẫn đầy đủ độ béo và sự ngọt nhẹ.',\n",
       "  'price': '55000',\n",
       "  'image_url': 'http://product.hstatic.net/1000075078/product/1746439218_latte-classic_e216596a8267420b9e55714322ac2d8f_grande.png'}]"
      ]
     },
     "execution_count": 25,
     "metadata": {},
     "output_type": "execute_result"
    }
   ],
   "source": [
    "retrieval6"
   ]
  },
  {
   "cell_type": "markdown",
   "id": "4e36faa9",
   "metadata": {},
   "source": [
    "#### **3. Determine to choose cases**"
   ]
  },
  {
   "cell_type": "code",
   "execution_count": 31,
   "id": "01024b32",
   "metadata": {},
   "outputs": [],
   "source": [
    "def handle_user_query(query, limit=5):\n",
    "    preprocessed_query = preprocess_text(query)\n",
    "    \n",
    "    # Case 1: Check exact item\n",
    "    is_exact, exact_item = is_exact_item(preprocessed_query)\n",
    "    if is_exact:\n",
    "        return search_exact_item(exact_item)\n",
    "    \n",
    "    # Case 2: General recommend\n",
    "    return general_search_and_recommend(preprocessed_query, limit)"
   ]
  },
  {
   "cell_type": "code",
   "execution_count": 32,
   "id": "89a244e0",
   "metadata": {},
   "outputs": [
    {
     "name": "stdout",
     "output_type": "stream",
     "text": [
      "Trà trái cây - Hi Tea Trà trái cây None\n"
     ]
    }
   ],
   "source": [
    "query7 = \"Quán bạn có những loại Trà trái cây nào vậy?\"\n",
    "retrieval7 = handle_user_query(query7)"
   ]
  },
  {
   "cell_type": "code",
   "execution_count": 33,
   "id": "8c90d27a",
   "metadata": {},
   "outputs": [
    {
     "data": {
      "text/plain": [
       "[{'title': 'Oolong Tứ Quý Sen',\n",
       "  'description': 'Nền trà oolong hảo hạng kết hợp cùng hạt sen tươi, bùi bùi và lớp foam cheese béo ngậy. Trà hạt sen là thức uống thanh mát, nhẹ nhàng phù hợp cho cả buổi sáng và chiều tối.',\n",
       "  'price': '49000',\n",
       "  'image_url': 'http://product.hstatic.net/1000075078/product/1737356345_oolong-sen_d10cade0d3144d929a271638421d5e2a_grande.png'},\n",
       " {'title': 'Oolong Tứ Quý Sen (Nóng)',\n",
       "  'description': 'Nền trà oolong hảo hạng kết hợp cùng hạt sen tươi, bùi bùi thơm ngon. Trà hạt sen là thức uống thanh mát, nhẹ nhàng phù hợp cho cả buổi sáng và chiều tối.',\n",
       "  'price': '59000',\n",
       "  'image_url': 'http://product.hstatic.net/1000075078/product/1737356332_oolong-tu-quy-sen-nong_df3f6ef8a6874fae8618499d8d1e2754_grande.png'},\n",
       " {'title': 'Trà Đào Cam Sả - Đá',\n",
       "  'description': 'Vị thanh ngọt của đào, vị chua dịu của Cam Vàng nguyên vỏ, vị chát của trà đen tươi được ủ mới mỗi 4 tiếng, cùng hương thơm nồng đặc trưng của sả chính là điểm sáng làm nên sức hấp dẫn của thức uống này.',\n",
       "  'price': '49000',\n",
       "  'image_url': 'http://product.hstatic.net/1000075078/product/1737356280_tra-dao-cam-sa_9c46cceef5004e689b746e8ec0e47c34_grande.png'},\n",
       " {'title': 'Trà Đào Cam Sả - Nóng',\n",
       "  'description': 'Vị thanh ngọt của đào, vị chua dịu của Cam Vàng nguyên vỏ, vị chát của trà đen tươi được ủ mới mỗi 4 tiếng, cùng hương thơm nồng đặc trưng của sả chính là điểm sáng làm nên sức hấp dẫn của thức uống này.',\n",
       "  'price': '59000',\n",
       "  'image_url': 'http://product.hstatic.net/1000075078/product/1737356382_oolong-tu-quy-sen-nong-copy_79b957510bcb4e6f8bb7d938f0448ab9_grande.png'},\n",
       " {'title': 'Oolong Berry',\n",
       "  'description': 'Cắn một cái, chua chua ngọt ngọt ngon đến từng tế bào với chiếc Mochi Kem Phúc Bồn Tử! Hút một ngụm, mê luôn Trà Oolong Sữa dịu êm quyện vị dâu, cùng lớp foam phô mai phủ vụn bánh quy phô mai mằn mặn. Món không thể thiếu đá, để ngoại hình và chất lượng được đảm bảo.',\n",
       "  'price': '69000',\n",
       "  'image_url': 'http://product.hstatic.net/1000075078/product/1700837685_tra-sua-oolong-berry-ly-thuy-tinh_ba865acfd16c40b8b7c066299031e88e_grande.jpg'}]"
      ]
     },
     "execution_count": 33,
     "metadata": {},
     "output_type": "execute_result"
    }
   ],
   "source": [
    "retrieval7"
   ]
  },
  {
   "cell_type": "markdown",
   "id": "0b2f2a3c",
   "metadata": {},
   "source": [
    "### **Prompt Augmentation**"
   ]
  },
  {
   "cell_type": "code",
   "execution_count": null,
   "id": "f490a956",
   "metadata": {},
   "outputs": [],
   "source": [
    "def get_relevant_chunk(query):\n",
    "    results = handle_user_query(query, limit=5)\n",
    "    \n",
    "    # Case 2: List of sub_categories\n",
    "    if isinstance(results, dict) and results.get(\"type\") == \"sub_category\":\n",
    "        sub_list = results[\"data\"]\n",
    "        final_ans = \", \".join(sub_list[:-1]) + f\" và {sub_list[-1]}\" if len(sub_list) > 1 else sub_list[0]\n",
    "        context = f\"Quán có các loại như: {final_ans}. Bạn muốn thử loại nào?\"\n",
    "        return {\"context\": context, \"image_url\": []}\n",
    "    \n",
    "    # Case 2: String\n",
    "    if isinstance(results, str):\n",
    "        return {\"context\": results, \"image_url\": []}\n",
    "    \n",
    "    if results:\n",
    "        # Collect image URLs in a list\n",
    "        image_urls = [item[\"image_url\"] for item in results if item.get(\"image_url\") and item.get(\"image_url\").strip()]\n",
    "        \n",
    "        if len(results) == 1:\n",
    "            # Case 1: Exact match\n",
    "            item = results[0]\n",
    "            price = f\"{item['price']} VNĐ\" if isinstance(item['price'], (int, float)) else item['price']\n",
    "            context = (\n",
    "                f\"Tên: {item['title']}\\n\"\n",
    "                f\"Giá: {price}\\n\"\n",
    "                f\"Mô tả: {item['description']}\"\n",
    "            )\n",
    "            return {\"context\": context, \"image_url\": image_urls}\n",
    "        else:\n",
    "            # Case 2: General match with multiple items\n",
    "            context = \"Quán có các món sau:\\n\"\n",
    "            for i, item in enumerate(results, 1):\n",
    "                price = f\"{item['price']} VNĐ\" if isinstance(item['price'], (int, float)) else item['price']\n",
    "                context += (\n",
    "                    f\"{i}. {item['title']}\\n\"\n",
    "                    f\"   Giá: {price}\\n\"\n",
    "                    f\"   Mô tả: {item['description']}\\n\"\n",
    "                    f\"---\\n\"\n",
    "                )\n",
    "            return {\"context\": context.strip(), \"image_url\": image_urls}\n",
    "\n",
    "    return {\n",
    "        \"context\": \"Quán của mình hiện không bán món nước này. Anh/chị muốn thử món nào khác không?\", \n",
    "        \"image_url\": []\n",
    "    }"
   ]
  },
  {
   "cell_type": "code",
   "execution_count": null,
   "id": "2a231d3b",
   "metadata": {},
   "outputs": [],
   "source": [
    "def make_prompt(query, context):\n",
    "    # Determine case to create suitable instruction\n",
    "    is_exact, _ = is_exact_item(query)\n",
    "    case = 1 if is_exact else 2\n",
    "    \n",
    "    if case == 1:\n",
    "        instruction = (\n",
    "            \"\"\"\n",
    "            Hãy trả lời một cách ấm áp, nhẹ nhàng, tập trung vào món mà khách hàng hỏi.\n",
    "            Tóm tắt mô tả món dựa trên context, chỉ nói những điểm nổi bật.\n",
    "            Cuối cùng, hỏi thêm nếu cần. \n",
    "            \"\"\"\n",
    "        )\n",
    "    else:\n",
    "        instruction = (\n",
    "            \"\"\"\n",
    "            Hãy trả lời một cách thân thiện, tự nhiên.\n",
    "            Nếu context là danh sách các món, tóm tắt và giới thiệu từng món một cách ngắn gọn, chỉ nêu những đặc điểm nổi bật.\n",
    "            Sau đó, khuyến khích khách hàng chọn một món.\n",
    "            \n",
    "            Quan trọng: Vui lòng liệt kê mỗi món sử dụng dấu gạch đầu dòng (-) để đánh dấu từng món theo format sau\n",
    "            1. **[Tên món]**: [Mô tả]\n",
    "            2. **[Tên món]**: [Mô tả]\n",
    "            ...\n",
    "            \"\"\"\n",
    "        )\n",
    "    \n",
    "    return (\n",
    "        f\"Query: {query}\\n\\n\"\n",
    "        f\"Context: \\n{context}\\n\\n\"\n",
    "        f\"Answer: {instruction}\"\n",
    "    )"
   ]
  },
  {
   "cell_type": "code",
   "execution_count": null,
   "id": "6815987e",
   "metadata": {},
   "outputs": [],
   "source": [
    "import google.generativeai as genai\n",
    "\n",
    "chat_history = []\n",
    "\n",
    "# System prompt content\n",
    "system_prompt_content = (\n",
    "    \"Bạn là một chatbot của cửa hàng bán cà phê và các loại đồ uống khác. \",\n",
    "    \"Vai trò của bạn là hỗ trợ khách hàng trong việc tìm hiểu về các sản phẩm và dịch vụ của cửa hàng, \",\n",
    "    \"cũng như tạo một trải nghiệm mua sắm dễ chịu và thân thiện. \",\n",
    "    \"Bạn cũng có thể trò chuyện với khách hàng về các chủ đề không liên quan đến sản phẩm như thời tiết, sở thích cá nhân, \",\n",
    "    \"và những câu chuyện thú vị khác để tạo sự gắn kết. \",\n",
    "    \"Hãy luôn giữ thái độ lịch sự và chuyên nghiệp. \",\n",
    "    \"Nếu khách hàng hỏi về sản phẩm cụ thể, hãy cung cấp thông tin chi tiết và gợi ý các lựa chọn phù hợp. \",\n",
    "    \"Nếu khách hàng trò chuyện về các chủ đề không liên quan đến sản phẩm, hãy tham gia vào cuộc trò chuyện một cách vui vẻ và thân thiện.\\n\",\n",
    "    \n",
    "    \"Một số điểm bạn cần lưu ý:\\n\",\n",
    "    \"1. Đáp ứng nhanh chóng và chính xác, sử dụng xưng hô là 'Mình và bạn'\\n\",\n",
    "    \"2. Giữ cho cuộc trò chuyện vui vẻ và thân thiện.\\n\",\n",
    "    \"3. Cung cấp thông tin hữu ích về quán và dịch vụ của cửa hàng.\\n\",\n",
    "    \"4. Giữ cho cuộc trò chuyện mang tính chất hỗ trợ và giúp đỡ.\\n\",\n",
    "    \"5. Khi tính tiền: chỉ cần thông báo **tổng tiền cuối cùng**. Không hiển thị bước tính toán.\\n\"\n",
    "    \"6. Nếu khách gọi tên món kèm yêu cầu cá nhân hóa (ví dụ: 'ít đường', 'ít đá', 'nhiều sữa', 'đậm vị'...): \"\n",
    "    \"Hãy làm cho khách hàng cảm thấy được chào đón và quan tâm!\"\n",
    ")"
   ]
  },
  {
   "cell_type": "markdown",
   "id": "04691cb3",
   "metadata": {},
   "source": [
    "### **Generate Answer**"
   ]
  },
  {
   "cell_type": "code",
   "execution_count": null,
   "id": "f3e81180",
   "metadata": {},
   "outputs": [],
   "source": [
    "def generate_answer(query, chat_history, limit=5):\n",
    "    genai.configure(api_key=os.getenv(\"GEMINI_API_KEY\"))\n",
    "    model = genai.GenerativeModel('gemini-1.5-flash')\n",
    "    \n",
    "    # Take context from get_relevant_chunk\n",
    "    context = get_relevant_chunk(query)\n",
    "    \n",
    "    # Create prompt\n",
    "    prompt = make_prompt(query, context)\n",
    "    \n",
    "    # Apppend the prompt to chat history\n",
    "    if len(chat_history) > 10:\n",
    "        chat_history = chat_history[-10:]\n",
    "    chat_history.append(f'User: {prompt}')\n",
    "    \n",
    "    # Combine system message to chat history\n",
    "    full_prompt = f\"{system_prompt_content}\\n\\n\" + \"\\n\".join(chat_history) + f\"\\n\\n{prompt}\\nAssistant:\"\n",
    "    \n",
    "    # Generate response\n",
    "    try:\n",
    "        response = model.generate_content(full_prompt)\n",
    "        chat_history.append(f\"Assistant: {response.text}\")\n",
    "        return response.text\n",
    "    except Exception as e:\n",
    "        print(f\"Error generating response: {e}\")\n",
    "        return \"Mình xin lỗi vì gặp chút trục trặc. Bạn có thể hỏi lại hoặc thử món khác nhé!\""
   ]
  },
  {
   "cell_type": "code",
   "execution_count": 33,
   "id": "0620eba1",
   "metadata": {},
   "outputs": [
    {
     "name": "stdout",
     "output_type": "stream",
     "text": [
      "\n",
      "Query: Quán mình có bán những loại cà phê nào vậy? Có thể cho tôi biết best seller của quán không?\n",
      "Answer: Chào bạn! Quán mình có rất nhiều loại cà phê ngon đó nha!  Mình có cà phê máy thơm ngon, đậm đà, cà phê phin truyền thống, Cold Brew thơm mát, A-Mê độc đáo và Espresso mạnh mẽ.\n",
      "\n",
      "Best seller của quán hiện nay là Cold Brew đấy bạn ạ!  Nó có vị cà phê êm dịu, không đắng gắt, rất dễ uống, đặc biệt thích hợp cho những ngày hè nóng bức.  \n",
      "\n",
      "Bạn thấy loại nào hợp khẩu vị nhất nè?  Mình có thể tư vấn thêm cho bạn nếu bạn muốn đó!\n",
      "\n",
      "Chat history: ['User: Query: Quán mình có bán những loại cà phê nào vậy? Có thể cho tôi biết best seller của quán không?\\n\\nContext: \\nQuán mình có các loại cà phê như: Cà phê máy, Cà phê phin, Cold Brew, A-Mê và Espresso\\n\\nAnswer: Hãy trả lời một cách thân thiện, tự nhiên. Nếu context là danh sách loại món, liệt kê chúng và hỏi khách muốn loại nào cụ thể. Nếu context là danh sách món, giới thiệu ngắn gọn từng món và khuyến khích khách chọn.', 'Assistant: Chào bạn! Quán mình có rất nhiều loại cà phê ngon đó nha!  Mình có cà phê máy thơm ngon, đậm đà, cà phê phin truyền thống, Cold Brew thơm mát, A-Mê độc đáo và Espresso mạnh mẽ.\\n\\nBest seller của quán hiện nay là Cold Brew đấy bạn ạ!  Nó có vị cà phê êm dịu, không đắng gắt, rất dễ uống, đặc biệt thích hợp cho những ngày hè nóng bức.  \\n\\nBạn thấy loại nào hợp khẩu vị nhất nè?  Mình có thể tư vấn thêm cho bạn nếu bạn muốn đó!\\n']\n"
     ]
    }
   ],
   "source": [
    "def main():\n",
    "    # query = \"Quán mình có cà phê đen đá không? Cho tôi một ly cà phê đen đá không đường\"\n",
    "    # query = \"Quán mình có bán những loại bánh ngọt nào vậy?\"\n",
    "    query = \"Quán mình có bán những loại cà phê nào vậy? Có thể cho tôi biết best seller của quán không?\"\n",
    "    \n",
    "    print(f\"\\nQuery: {query}\")\n",
    "    answer = generate_answer(query, chat_history, limit=5)\n",
    "    print(\"Answer:\", answer)\n",
    "    print(\"Chat history:\", chat_history[-2:] if len(chat_history) >= 2 else chat_history) \n",
    "\n",
    "if __name__ == \"__main__\":\n",
    "    main()"
   ]
  }
 ],
 "metadata": {
  "kernelspec": {
   "display_name": "chatbot-coffee",
   "language": "python",
   "name": "python3"
  },
  "language_info": {
   "codemirror_mode": {
    "name": "ipython",
    "version": 3
   },
   "file_extension": ".py",
   "mimetype": "text/x-python",
   "name": "python",
   "nbconvert_exporter": "python",
   "pygments_lexer": "ipython3",
   "version": "3.11.5"
  }
 },
 "nbformat": 4,
 "nbformat_minor": 5
}
