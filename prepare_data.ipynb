{
 "cells": [
  {
   "cell_type": "code",
   "execution_count": 25,
   "id": "616bd8c0",
   "metadata": {},
   "outputs": [
    {
     "data": {
      "application/vnd.microsoft.datawrangler.viewer.v0+json": {
       "columns": [
        {
         "name": "index",
         "rawType": "int64",
         "type": "integer"
        },
        {
         "name": "url",
         "rawType": "object",
         "type": "string"
        },
        {
         "name": "title",
         "rawType": "object",
         "type": "string"
        },
        {
         "name": "price",
         "rawType": "object",
         "type": "string"
        },
        {
         "name": "image_url",
         "rawType": "object",
         "type": "string"
        },
        {
         "name": "description",
         "rawType": "object",
         "type": "string"
        }
       ],
       "ref": "72ba1348-de32-4c2e-9adf-0fb9178dbb3e",
       "rows": [
        [
         "0",
         "https://thecoffeehouse.com/products/trung-onsen",
         "Trứng Onsen",
         "10000 đ VND",
         "http://product.hstatic.net/1000075078/product/1742999537_trung-onsen_45aacb7abd554fc1b3a459c62c304912_grande.png",
         ""
        ],
        [
         "1",
         "https://thecoffeehouse.com/products/matcha-burnt-cheesecake",
         "Matcha Burnt Cheesecake",
         "55000 đ VND",
         "http://product.hstatic.net/1000075078/product/1743674607_matcha-burnt-cheesecake_2b4a68367fb64d0fb9bb7eed5ca116f7_grande.png",
         "Hòa quyện giữa phô mai béo ngậy và trà xanh đắng nhẹ, thơm lừng, tinh tế khó cưỡng."
        ],
        [
         "2",
         "https://thecoffeehouse.com/products/burnt-cheesecake",
         "Burnt Cheesecake",
         "55000 đ VND",
         "http://product.hstatic.net/1000075078/product/1743674500_burnt-cheesecake_3ca2f1483b034c3a9192a07e6b2f3b81_grande.png",
         "Phô mai béo mịn, thơm lừng với lớp vỏ cháy xém đặc trưng, tan chảy ngay đầu lưỡi."
        ],
        [
         "3",
         "https://thecoffeehouse.com/products/latte-classic",
         "Latte Classic",
         "55000 đ VND",
         "http://product.hstatic.net/1000075078/product/1746439218_latte-classic_e216596a8267420b9e55714322ac2d8f_grande.png",
         "Latte Đá là sự kết hợp hoàn hảo giữa espresso đậm đà và sữa tươi béo ngậy, tạo ra một hương vị dịu nhẹ, không quá đắng nhưng vẫn giữ được sự đậm đà của cà phê. Khi thêm đá lạnh, Latte Đá mang lại cảm giác mát lạnh, dễ uống, rất thích hợp cho những ngày nóng. Hương vị của sữa tươi hòa quyện với cà phê tạo nên một thức uống thơm ngon, thanh mát nhưng vẫn đầy đủ độ béo và sự ngọt nhẹ."
        ],
        [
         "4",
         "https://thecoffeehouse.com/products/latte-bac-xiu",
         "Latte Bạc Xỉu",
         "49000 đ VND",
         "http://product.hstatic.net/1000075078/product/1746441267_latte-bac-xiu_a6fe420fef6f4ec7a2e4f87e9e03ef4b_grande.png",
         "Latte Bạc Xỉu là sự kết hợp giữa Espresso, sữa tươi béo ngậy và cà phê phin đậm đà, tạo ra một hương vị vừa ngọt nhẹ, vừa đậm đà, dễ uống và mát lạnh."
        ]
       ],
       "shape": {
        "columns": 5,
        "rows": 5
       }
      },
      "text/html": [
       "<div>\n",
       "<style scoped>\n",
       "    .dataframe tbody tr th:only-of-type {\n",
       "        vertical-align: middle;\n",
       "    }\n",
       "\n",
       "    .dataframe tbody tr th {\n",
       "        vertical-align: top;\n",
       "    }\n",
       "\n",
       "    .dataframe thead th {\n",
       "        text-align: right;\n",
       "    }\n",
       "</style>\n",
       "<table border=\"1\" class=\"dataframe\">\n",
       "  <thead>\n",
       "    <tr style=\"text-align: right;\">\n",
       "      <th></th>\n",
       "      <th>url</th>\n",
       "      <th>title</th>\n",
       "      <th>price</th>\n",
       "      <th>image_url</th>\n",
       "      <th>description</th>\n",
       "    </tr>\n",
       "  </thead>\n",
       "  <tbody>\n",
       "    <tr>\n",
       "      <th>0</th>\n",
       "      <td>https://thecoffeehouse.com/products/trung-onsen</td>\n",
       "      <td>Trứng Onsen</td>\n",
       "      <td>10000 đ VND</td>\n",
       "      <td>http://product.hstatic.net/1000075078/product/...</td>\n",
       "      <td></td>\n",
       "    </tr>\n",
       "    <tr>\n",
       "      <th>1</th>\n",
       "      <td>https://thecoffeehouse.com/products/matcha-bur...</td>\n",
       "      <td>Matcha Burnt Cheesecake</td>\n",
       "      <td>55000 đ VND</td>\n",
       "      <td>http://product.hstatic.net/1000075078/product/...</td>\n",
       "      <td>Hòa quyện giữa phô mai béo ngậy và trà xanh đắ...</td>\n",
       "    </tr>\n",
       "    <tr>\n",
       "      <th>2</th>\n",
       "      <td>https://thecoffeehouse.com/products/burnt-chee...</td>\n",
       "      <td>Burnt Cheesecake</td>\n",
       "      <td>55000 đ VND</td>\n",
       "      <td>http://product.hstatic.net/1000075078/product/...</td>\n",
       "      <td>Phô mai béo mịn, thơm lừng với lớp vỏ cháy xém...</td>\n",
       "    </tr>\n",
       "    <tr>\n",
       "      <th>3</th>\n",
       "      <td>https://thecoffeehouse.com/products/latte-classic</td>\n",
       "      <td>Latte Classic</td>\n",
       "      <td>55000 đ VND</td>\n",
       "      <td>http://product.hstatic.net/1000075078/product/...</td>\n",
       "      <td>Latte Đá là sự kết hợp hoàn hảo giữa espresso ...</td>\n",
       "    </tr>\n",
       "    <tr>\n",
       "      <th>4</th>\n",
       "      <td>https://thecoffeehouse.com/products/latte-bac-xiu</td>\n",
       "      <td>Latte Bạc Xỉu</td>\n",
       "      <td>49000 đ VND</td>\n",
       "      <td>http://product.hstatic.net/1000075078/product/...</td>\n",
       "      <td>Latte Bạc Xỉu là sự kết hợp giữa Espresso, sữa...</td>\n",
       "    </tr>\n",
       "  </tbody>\n",
       "</table>\n",
       "</div>"
      ],
      "text/plain": [
       "                                                 url                    title  \\\n",
       "0    https://thecoffeehouse.com/products/trung-onsen              Trứng Onsen   \n",
       "1  https://thecoffeehouse.com/products/matcha-bur...  Matcha Burnt Cheesecake   \n",
       "2  https://thecoffeehouse.com/products/burnt-chee...         Burnt Cheesecake   \n",
       "3  https://thecoffeehouse.com/products/latte-classic            Latte Classic   \n",
       "4  https://thecoffeehouse.com/products/latte-bac-xiu            Latte Bạc Xỉu   \n",
       "\n",
       "         price                                          image_url  \\\n",
       "0  10000 đ VND  http://product.hstatic.net/1000075078/product/...   \n",
       "1  55000 đ VND  http://product.hstatic.net/1000075078/product/...   \n",
       "2  55000 đ VND  http://product.hstatic.net/1000075078/product/...   \n",
       "3  55000 đ VND  http://product.hstatic.net/1000075078/product/...   \n",
       "4  49000 đ VND  http://product.hstatic.net/1000075078/product/...   \n",
       "\n",
       "                                         description  \n",
       "0                                                     \n",
       "1  Hòa quyện giữa phô mai béo ngậy và trà xanh đắ...  \n",
       "2  Phô mai béo mịn, thơm lừng với lớp vỏ cháy xém...  \n",
       "3  Latte Đá là sự kết hợp hoàn hảo giữa espresso ...  \n",
       "4  Latte Bạc Xỉu là sự kết hợp giữa Espresso, sữa...  "
      ]
     },
     "execution_count": 25,
     "metadata": {},
     "output_type": "execute_result"
    }
   ],
   "source": [
    "import pandas as pd\n",
    "\n",
    "# Load the dataset\n",
    "PATH = \"output_files/all_products.json\"\n",
    "df = pd.read_json(PATH)\n",
    "\n",
    "df.head()"
   ]
  },
  {
   "cell_type": "markdown",
   "id": "39fb0537",
   "metadata": {},
   "source": [
    "Vì do ở đây chỉ cần 4 cột là **[title, price, image_url, description]**, nên đầu tiên sẽ bỏ đi cột URL là link dẫn đến sản phẩm đó trên official website."
   ]
  },
  {
   "cell_type": "code",
   "execution_count": 26,
   "id": "64072213",
   "metadata": {},
   "outputs": [],
   "source": [
    "df.drop('url', axis=1, inplace=True)"
   ]
  },
  {
   "cell_type": "code",
   "execution_count": 27,
   "id": "10b74cd0",
   "metadata": {},
   "outputs": [
    {
     "data": {
      "text/plain": [
       "Index(['title', 'price', 'image_url', 'description'], dtype='object')"
      ]
     },
     "execution_count": 27,
     "metadata": {},
     "output_type": "execute_result"
    }
   ],
   "source": [
    "df.columns"
   ]
  },
  {
   "cell_type": "markdown",
   "id": "6a4702fd",
   "metadata": {},
   "source": [
    "Ở đây đã sau khi đã kiểm tra và cũng như xem xét các sản phẩm thì tôi sẽ chia các sản phẩm ra làm 8 loại chính cho khách hàng có thể lựa chọn. Nhưng khi kiểm tra có 1 vài thứ không phải là sản phẩm nên cần phải loại bỏ trước."
   ]
  },
  {
   "cell_type": "code",
   "execution_count": 28,
   "id": "39a08f92",
   "metadata": {},
   "outputs": [],
   "source": [
    "# List of titles but not products\n",
    "titles_wanna_remove = ['Phí giao hàng CPG ngoại thành', 'Phí giao hàng CPG nội thành', 'Phí giao hàng', 'Temp Product', 'Trứng Onsen']\n",
    "\n",
    "df = df[~df['title'].isin(titles_wanna_remove)]"
   ]
  },
  {
   "cell_type": "markdown",
   "id": "b9b4b1b9",
   "metadata": {},
   "source": [
    "### **Categorizing Products**"
   ]
  },
  {
   "cell_type": "markdown",
   "id": "68acfbf3",
   "metadata": {},
   "source": [
    "**1. Cà phê:**\n",
    "+ **Cà phê máy:** 'Latte Classic', 'Latte Bạc Xỉu', 'Latte Coconut', 'Latte Hazelnut', 'Latte Caramel', 'Latte Almond', 'Latte Nóng'\n",
    "+ **Cà phê phin:** 'Cà Phê Nguyên Hạt Arabica TCH (200gr)', 'Bạc Xỉu Foam Dừa', 'Bạc Xỉu Caramel Muối', 'Đường Đen Sữa Đá', 'Bạc Xỉu Nóng', 'Bạc Xỉu', 'Cà Phê Sữa Đá',<br>\n",
    "                   'Cà Phê Đen Đá', 'Cà Phê Sữa Nóng', 'Cà Phê Đen Nóng'\n",
    "+ **Cold-brew:** 'Cold Brew Kim Quất', 'Cold Brew Sữa Tươi', 'Cold Brew Truyền Thống'\n",
    "+ **Americano:** 'A-Mê Tuyết Quất', 'A-Mê Tuyết Mơ', 'A-Mê Tuyết Đào', 'A-Mê Quất', 'A-Mê Mơ', 'A-Mê Đào', 'A-Mê Classic', 'Americano Nóng'\n",
    "+ **Espresso:** 'Espresso Đá','Cappuccino Đá', 'Caramel Macchiato Đá', 'Cappuccino Nóng', 'Caramel Macchiato Nóng', 'Espresso Nóng'\n",
    "\n",
    "**2. Thức uống đá xay:**\n",
    "+ **Đá xay bình thường:** 'Frosty Cà Phê Đường Đen', 'Frosty Caramel Arabica', 'Frosty Bánh Kem Dâu', 'Frosty Phin-Gato', 'Frosty Trà Xanh', 'Frosty Cà Phê Đường Đen', <br>\n",
    "                          'Frosty Caramel Arabica', 'Frosty Phin-Gato', 'Frosty Trà Xanh', 'Frosty Bánh Kem Dâu'\n",
    "+ **Đá xay có lớp whipping cream ở trên:** 'Frappe Choco Chip', 'Frappe Hazelnut', 'Frappe Caramel', 'Frappe Almond', 'Frappe Espresso', 'Frappe Coconut Coffee', 'Frappe Matcha'\n",
    "\n",
    "**3. Matcha:** <br>\n",
    "'Matcha Yuzu Đá Xay\\u200b', 'Matcha Yuzu', 'Matcha Đào Đá Xay', 'Matcha Đào', 'Matcha Okinawa Trân Châu Hoàng Kim', 'Matcha Sữa Dừa Đá Xay', 'Matcha Sữa Dừa', 'Matcha Latte', <br>\n",
    "'Matcha Tinh Khiết', 'Trà Xanh - Xinh Chẳng Phai', 'Trà Xanh - Yêu Chẳng Phai', 'Matcha Latte Tây Bắc Sữa Yến Mạch', 'CloudTea Trà Xanh Tây Bắc', <br>\n",
    "'Matcha Latte Tây Bắc Sữa Yến Mạch (Nóng)', 'Trà Xanh Nước Dừa', 'Trà Xanh Nước Dừa Yuzu', 'Matcha Latte Tây Bắc (Nóng)', 'Matcha Latte Tây Bắc'\n",
    "\n",
    "**4. Trà trái cây - Hi Tea:**\n",
    "+ **Hi-Tea:**  'Hi-TeaYuzu Kombucha', 'Hi-Tea Đào Kombucha', 'Hi-Tea - Xinh Chẳng Phai', 'Hi-Tea Đào', 'Hi-Tea Vải', 'Hi-Tea Yuzu Trân Châu', 'Hi-Tea - Yêu Chẳng Phai', <br>\n",
    "              'Hi-Tea Đá Tuyết Mận Muối Trân Châu', 'Hi-Tea Dâu Tây Mận Muối Trân Châu', 'Hi-Tea Kim Quất Bưởi Hồng Mandarin', 'Dâu Phô Mai'\n",
    "+ **Trà trái cây:** 'Oolong Tứ Quý Sen',  'Oolong Tứ Quý Sen (Nóng)', 'Oolong Tứ Quý Dâu Trân Châu',\n",
    "                'Oolong Tứ Quý Vải', 'Oolong Tứ Quý Kim Quất Trân Châu', 'CloudTea Oolong Berry', 'Trà Đào Cam Sả - Nóng', 'Trà Đào Cam Sả - Đá'\n",
    "\n",
    "**5. Trà sữa:** <br>\n",
    "'Trà sữa Oolong Nướng Trân Châu', 'Trà Đen Macchiato', 'Hồng Trà Sữa Trân Châu', 'Hồng Trà Sữa Nóng', <br>\n",
    "'Trà Sữa Oolong Tứ Quý Sương Sáo', 'Trà Sữa Oolong Nướng Sương Sáo','Trà Đào - Yêu Chẳng Phai', <br>\n",
    "'Trà Sữa Oolong BLao', 'Trà sữa Oolong Nướng (Nóng)', 'Chocolate Nóng', 'Chocolate Đá'\n",
    "\n",
    "**6. Đồ ăn chế biến:** <br>\n",
    "'Spaghetti Bò Bằm', 'Cơm Chiên Hải Sản'\n",
    "\n",
    "**7. Bánh:**\n",
    "+ **Bánh ngọt:** 'Mochi Kem Trà Sữa Trân Châu', 'Mochi Kem Matcha', 'Mochi Kem Chocolate', 'Mochi Kem Việt Quất', 'Mochi Kem Phúc Bồn Tử', 'Mousse Matcha', 'Mousse Tiramisu', <br>\n",
    "                 'Mousse Gấu Chocolate', 'Matcha Burnt Cheesecake', 'Burnt Cheesecake', 'Mít Sấy', 'Butter Croissant Sữa Đặc'\n",
    "+ **Bánh mặn:** 'Bánh Mì Que Bò Nấm Xốt Bơ', 'Bánh Mì Que Chà Bông Phô Mai Bơ Cay', 'Bánh Mì Que Pate Cột Đèn', 'Chà Bông Phô Mai', 'Croissant trứng muối', 'Butter Croissant'\n",
    "\n",
    "**8. Cà phê (gói) mang đi:** <br>\n",
    "'Cà Phê Đen Đá Túi (30 gói x 16g)', 'Cà Phê Đen Đá Hộp (14 gói x 16g)', 'Cà Phê Hoà Tan Đậm Vị Việt (18 gói x 16 gam)', 'Cà Phê Sữa Đá Hòa Tan Túi 25x22G', 'Cà Phê Rang Xay Original 1 250G', 'Cà Phê Sữa Đá Hòa Tan (10 gói x 22g)'"
   ]
  },
  {
   "cell_type": "code",
   "execution_count": 29,
   "id": "8d21523f",
   "metadata": {},
   "outputs": [],
   "source": [
    "# Define products to map their categories\n",
    "mappings = {\n",
    "    'Cà phê': {\n",
    "        'Cà phê máy': ['Latte Classic', 'Latte Bạc Xỉu', 'Latte Coconut', 'Latte Hazelnut', 'Latte Caramel', 'Latte Almond', 'Latte Nóng'],\n",
    "        'Cà phê phin': ['Bạc Xỉu Foam Dừa', 'Bạc Xỉu Caramel Muối', 'Đường Đen Sữa Đá','Bạc Xỉu Nóng',\n",
    "                        'Bạc Xỉu', 'Cà Phê Sữa Đá', 'Cà Phê Đen Đá', 'Cà Phê Sữa Nóng', 'Cà Phê Đen Nóng'],\n",
    "        'Cold Brew': ['Cold Brew Kim Quất', 'Cold Brew Sữa Tươi', 'Cold Brew Truyền Thống'],\n",
    "        'A-Mê': ['A-Mê Tuyết Quất', 'A-Mê Tuyết Mơ', 'A-Mê Tuyết Đào', 'A-Mê Quất', 'A-Mê Mơ', 'A-Mê Đào', 'A-Mê Classic', 'Americano Nóng'],\n",
    "        'Espresso': ['Espresso Đá','Cappuccino Đá', 'Caramel Macchiato Đá', 'Cappuccino Nóng', 'Caramel Macchiato Nóng', 'Espresso Nóng']\n",
    "    },\n",
    "\n",
    "    'Thức uống đá xay': {\n",
    "        'Đá xay': ['Frosty Cà Phê Đường Đen', 'Frosty Caramel Arabica', 'Frosty Bánh Kem Dâu', 'Frosty Phin-Gato', 'Frosty Trà Xanh',\n",
    "                   'Frosty Cà Phê Đường Đen', 'Frosty Caramel Arabica', 'Frosty Phin-Gato', 'Frosty Trà Xanh', 'Frosty Bánh Kem Dâu'],\n",
    "        'Đá xay có lớp whipping cream': ['Frappe Choco Chip', 'Frappe Hazelnut', 'Frappe Caramel', 'Frappe Almond', 'Frappe Espresso', 'Frappe Coconut Coffee', 'Frappe Matcha'],\n",
    "    },\n",
    "\n",
    "    'Matcha': {\n",
    "        '': ['Matcha Yuzu Đá Xay\\u200b', 'Matcha Yuzu', 'Matcha Đào Đá Xay', 'Matcha Đào', 'Matcha Okinawa Trân Châu Hoàng Kim', 'Matcha Sữa Dừa Đá Xay', 'Matcha Sữa Dừa',\n",
    "            'Matcha Latte', 'Matcha Tinh Khiết', 'Trà Xanh - Xinh Chẳng Phai', 'Trà Xanh - Yêu Chẳng Phai', 'Matcha Latte Tây Bắc Sữa Yến Mạch', 'CloudTea Trà Xanh Tây Bắc',\n",
    "            'Matcha Latte Tây Bắc Sữa Yến Mạch (Nóng)', 'Trà Xanh Nước Dừa', 'Trà Xanh Nước Dừa Yuzu', 'Matcha Latte Tây Bắc (Nóng)', 'Matcha Latte Tây Bắc']\n",
    "    },\n",
    "\n",
    "    'Trà trái cây - Hi Tea': {\n",
    "        'Hi Tea': ['Hi-Tea Yuzu Kombucha', 'Hi-Tea Đào Kombucha', 'Hi-Tea - Xinh Chẳng Phai', 'Hi-Tea Đào', 'Hi-Tea Vải', 'Hi-Tea Yuzu Trân Châu', 'Hi-Tea - Yêu Chẳng Phai',\n",
    "                   'Hi-Tea Đá Tuyết Mận Muối Trân Châu', 'Hi-Tea Dâu Tây Mận Muối Trân Châu', 'Hi-Tea Kim Quất Bưởi Hồng Mandarin', 'Dâu Phô Mai'],\n",
    "        'Trà trái cây': ['Oolong Tứ Quý Sen',  'Oolong Tứ Quý Sen (Nóng)', 'Oolong Tứ Quý Dâu Trân Châu', 'Oolong Tứ Quý Vải',\n",
    "                         'Oolong Tứ Quý Kim Quất Trân Châu', 'Trà Đào Cam Sả - Nóng', 'Trà Đào Cam Sả - Đá', 'CloudTea Oolong Berry']\n",
    "    },\n",
    "\n",
    "    'Trà sữa': {\n",
    "        '': ['Trà sữa Oolong Nướng Trân Châu', 'Trà Đen Macchiato', 'Hồng Trà Sữa Trân Châu', 'Hồng Trà Sữa Nóng',\n",
    "            'Trà Sữa Oolong Tứ Quý Sương Sáo', 'Trà Sữa Oolong Nướng Sương Sáo','Trà Đào - Yêu Chẳng Phai',\n",
    "            'Trà Sữa Oolong BLao', 'Trà sữa Oolong Nướng (Nóng)', 'Chocolate Nóng', 'Chocolate Đá']\n",
    "    },\n",
    "\n",
    "    'Bánh': {\n",
    "        'Bánh ngọt': ['Mochi Kem Trà Sữa Trân Châu', 'Mochi Kem Matcha', 'Mochi Kem Chocolate', 'Mochi Kem Việt Quất', 'Mochi Kem Phúc Bồn Tử',\n",
    "                      'Mousse Matcha', 'Mousse Tiramisu', 'Mousse Gấu Chocolate', 'Matcha Burnt Cheesecake', 'Burnt Cheesecake', 'Mít Sấy', 'Butter Croissant Sữa Đặc'],\n",
    "        'Bánh mặn': ['Bánh Mì Que Bò Nấm Xốt Bơ', 'Bánh Mì Que Chà Bông Phô Mai Bơ Cay', 'Bánh Mì Que Pate Cột Đèn', 'Chà Bông Phô Mai', 'Croissant trứng muối', 'Butter Croissant']\n",
    "    },\n",
    "\n",
    "    'Đồ ăn chế biến': {\n",
    "        '': ['Spaghetti Bò Bằm', 'Cơm Chiên Hải Sản']\n",
    "    },\n",
    "\n",
    "    'Cà phê gói mang đi': {\n",
    "        '': ['Cà Phê Đen Đá Túi (30 gói x 16g)', 'Cà Phê Đen Đá Hộp (14 gói x 16g)', 'Cà Phê Hoà Tan Đậm Vị Việt (18 gói x 16 gam)',\n",
    "            'Cà Phê Sữa Đá Hòa Tan Túi 25x22G', 'Cà Phê Rang Xay Original 1 250G', 'Cà Phê Sữa Đá Hòa Tan (10 gói x 22g)', 'Cà Phê Nguyên Hạt Arabica TCH (200gr)']\n",
    "    }\n",
    "}\n",
    "\n",
    "# Categorizing products function\n",
    "def categorize_products(item_name):\n",
    "    for main_cat, sub_cats in mappings.items():\n",
    "        for sub_cat, items in sub_cats.items():\n",
    "            if item_name in items:\n",
    "                return main_cat, sub_cat\n",
    "    return 'Other', 'Other'\n",
    "\n",
    "# Apply to create new columns\n",
    "df[['main_category', 'sub_category']] = df['title'].apply(lambda x: pd.Series(categorize_products(x)))"
   ]
  },
  {
   "cell_type": "code",
   "execution_count": 30,
   "id": "2718ea63",
   "metadata": {},
   "outputs": [
    {
     "data": {
      "application/vnd.microsoft.datawrangler.viewer.v0+json": {
       "columns": [
        {
         "name": "index",
         "rawType": "int64",
         "type": "integer"
        },
        {
         "name": "title",
         "rawType": "object",
         "type": "string"
        },
        {
         "name": "price",
         "rawType": "object",
         "type": "string"
        },
        {
         "name": "image_url",
         "rawType": "object",
         "type": "string"
        },
        {
         "name": "description",
         "rawType": "object",
         "type": "string"
        },
        {
         "name": "main_category",
         "rawType": "object",
         "type": "string"
        },
        {
         "name": "sub_category",
         "rawType": "object",
         "type": "string"
        }
       ],
       "ref": "4b1ba818-16aa-4420-87a5-8a4fa5b54f55",
       "rows": [
        [
         "109",
         "Matcha Latte Tây Bắc",
         "45000 đ VND",
         "http://product.hstatic.net/1000075078/product/1737355612_tx-latte_6909ebc57c8e4b1e9aeef7e5ecdd5f9d_grande.png",
         "Best seller của Nhà - rất phù hợp cho ai muốn nhập môn matcha. \n*Khuấy đều để thưởng trọn hương vị.",
         "Matcha",
         ""
        ],
        [
         "58",
         "Hi-Tea - Xinh Chẳng Phai",
         "119000 đ VND",
         "http://product.hstatic.net/1000075078/product/1728912459_hi-tea-dao-1_e87b2e3e53194de397637378d495d0b7_grande.jpg",
         "Set quà xinh xắn, chị em nào cũng thích:\n- 1 giỏ hoa hồng sáp cao cấp, mãi xinh cùng năm tháng\n- 1 Hi-Tea Đào (size M)\n*Món nước được phục vụ kèm đá, không để đá riêng",
         "Trà trái cây - Hi Tea",
         "Hi Tea"
        ],
        [
         "123",
         "Mochi Kem Chocolate",
         "19000 đ VND",
         "http://product.hstatic.net/1000075078/product/1737355348_mochi-choco_625d69b4f92d4cb3b2814bcb24a094ba_grande.png",
         "Bao bọc bởi lớp vỏ Mochi dẻo thơm, bên trong là lớp kem lạnh cùng nhân chocolate độc đáo. Gọi 1 chiếc Mochi cho ngày thật tươi mát.\nSản phẩm phải bảo quán mát và dùng ngon nhất trong 2h sau khi nhận hàng.",
         "Bánh",
         "Bánh ngọt"
        ],
        [
         "119",
         "Mousse Matcha",
         "29000 đ VND",
         "http://product.hstatic.net/1000075078/product/5d92fbc89e12b47db8cabbd2_matcha_942506_35f45bdaa8944748bc7371612704c786_grande.jpg",
         "Khám phá từng tầng vị trà xanh thơm lừng xen kẽ lớp kéo béo dịu với đậu đỏ.",
         "Bánh",
         "Bánh ngọt"
        ],
        [
         "61",
         "Trà Xanh - Yêu Chẳng Phai",
         "199000 đ VND",
         "http://product.hstatic.net/1000075078/product/1728912345_tra-xanh-latte-3_31a04df1a71045b7b7fc11e14f00d646_grande.jpg",
         "Set quà sang trọng thay ngàn lời bày tỏ:\n- 1 giỏ 10 hoa hồng sáp cao cấp, mãi yêu như ngày đầu\n- 1 Trà Xanh Latte (size S) \n*Món nước được phục vụ kèm đá, không để đá riêng",
         "Matcha",
         ""
        ]
       ],
       "shape": {
        "columns": 6,
        "rows": 5
       }
      },
      "text/html": [
       "<div>\n",
       "<style scoped>\n",
       "    .dataframe tbody tr th:only-of-type {\n",
       "        vertical-align: middle;\n",
       "    }\n",
       "\n",
       "    .dataframe tbody tr th {\n",
       "        vertical-align: top;\n",
       "    }\n",
       "\n",
       "    .dataframe thead th {\n",
       "        text-align: right;\n",
       "    }\n",
       "</style>\n",
       "<table border=\"1\" class=\"dataframe\">\n",
       "  <thead>\n",
       "    <tr style=\"text-align: right;\">\n",
       "      <th></th>\n",
       "      <th>title</th>\n",
       "      <th>price</th>\n",
       "      <th>image_url</th>\n",
       "      <th>description</th>\n",
       "      <th>main_category</th>\n",
       "      <th>sub_category</th>\n",
       "    </tr>\n",
       "  </thead>\n",
       "  <tbody>\n",
       "    <tr>\n",
       "      <th>109</th>\n",
       "      <td>Matcha Latte Tây Bắc</td>\n",
       "      <td>45000 đ VND</td>\n",
       "      <td>http://product.hstatic.net/1000075078/product/...</td>\n",
       "      <td>Best seller của Nhà - rất phù hợp cho ai muốn ...</td>\n",
       "      <td>Matcha</td>\n",
       "      <td></td>\n",
       "    </tr>\n",
       "    <tr>\n",
       "      <th>58</th>\n",
       "      <td>Hi-Tea - Xinh Chẳng Phai</td>\n",
       "      <td>119000 đ VND</td>\n",
       "      <td>http://product.hstatic.net/1000075078/product/...</td>\n",
       "      <td>Set quà xinh xắn, chị em nào cũng thích:\\n- 1 ...</td>\n",
       "      <td>Trà trái cây - Hi Tea</td>\n",
       "      <td>Hi Tea</td>\n",
       "    </tr>\n",
       "    <tr>\n",
       "      <th>123</th>\n",
       "      <td>Mochi Kem Chocolate</td>\n",
       "      <td>19000 đ VND</td>\n",
       "      <td>http://product.hstatic.net/1000075078/product/...</td>\n",
       "      <td>Bao bọc bởi lớp vỏ Mochi dẻo thơm, bên trong l...</td>\n",
       "      <td>Bánh</td>\n",
       "      <td>Bánh ngọt</td>\n",
       "    </tr>\n",
       "    <tr>\n",
       "      <th>119</th>\n",
       "      <td>Mousse Matcha</td>\n",
       "      <td>29000 đ VND</td>\n",
       "      <td>http://product.hstatic.net/1000075078/product/...</td>\n",
       "      <td>Khám phá từng tầng vị trà xanh thơm lừng xen k...</td>\n",
       "      <td>Bánh</td>\n",
       "      <td>Bánh ngọt</td>\n",
       "    </tr>\n",
       "    <tr>\n",
       "      <th>61</th>\n",
       "      <td>Trà Xanh - Yêu Chẳng Phai</td>\n",
       "      <td>199000 đ VND</td>\n",
       "      <td>http://product.hstatic.net/1000075078/product/...</td>\n",
       "      <td>Set quà sang trọng thay ngàn lời bày tỏ:\\n- 1 ...</td>\n",
       "      <td>Matcha</td>\n",
       "      <td></td>\n",
       "    </tr>\n",
       "  </tbody>\n",
       "</table>\n",
       "</div>"
      ],
      "text/plain": [
       "                         title         price  \\\n",
       "109       Matcha Latte Tây Bắc   45000 đ VND   \n",
       "58    Hi-Tea - Xinh Chẳng Phai  119000 đ VND   \n",
       "123        Mochi Kem Chocolate   19000 đ VND   \n",
       "119              Mousse Matcha   29000 đ VND   \n",
       "61   Trà Xanh - Yêu Chẳng Phai  199000 đ VND   \n",
       "\n",
       "                                             image_url  \\\n",
       "109  http://product.hstatic.net/1000075078/product/...   \n",
       "58   http://product.hstatic.net/1000075078/product/...   \n",
       "123  http://product.hstatic.net/1000075078/product/...   \n",
       "119  http://product.hstatic.net/1000075078/product/...   \n",
       "61   http://product.hstatic.net/1000075078/product/...   \n",
       "\n",
       "                                           description          main_category  \\\n",
       "109  Best seller của Nhà - rất phù hợp cho ai muốn ...                 Matcha   \n",
       "58   Set quà xinh xắn, chị em nào cũng thích:\\n- 1 ...  Trà trái cây - Hi Tea   \n",
       "123  Bao bọc bởi lớp vỏ Mochi dẻo thơm, bên trong l...                   Bánh   \n",
       "119  Khám phá từng tầng vị trà xanh thơm lừng xen k...                   Bánh   \n",
       "61   Set quà sang trọng thay ngàn lời bày tỏ:\\n- 1 ...                 Matcha   \n",
       "\n",
       "    sub_category  \n",
       "109               \n",
       "58        Hi Tea  \n",
       "123    Bánh ngọt  \n",
       "119    Bánh ngọt  \n",
       "61                "
      ]
     },
     "execution_count": 30,
     "metadata": {},
     "output_type": "execute_result"
    }
   ],
   "source": [
    "df.sample(5)"
   ]
  },
  {
   "cell_type": "markdown",
   "id": "dc193951",
   "metadata": {},
   "source": [
    "### **Repair some wrong titles' products and money format**"
   ]
  },
  {
   "cell_type": "markdown",
   "id": "d43438b9",
   "metadata": {},
   "source": [
    "Ở đây tôi sẽ sửa lại tên những món mà nó đang bị sai, có 3 loại nước đang chưa đúng định dạng [Matcha Yuzu Đá Xay\\u200b, CloudTea Oolong Berry, CloudTea Trà Xanh Tây Bắc]"
   ]
  },
  {
   "cell_type": "code",
   "execution_count": 31,
   "id": "24dd3575",
   "metadata": {},
   "outputs": [],
   "source": [
    "df['title'] = df['title'].str.replace('\\u200b', '', regex=True)\n",
    "df['title'] = df['title'].replace({\n",
    "    'CloudTea Oolong Berry': 'Oolong Berry',\n",
    "    'CloudTea Trà Xanh Tây Bắc': 'Trà Xanh Tây Bắc'\n",
    "})"
   ]
  },
  {
   "cell_type": "markdown",
   "id": "82336da2",
   "metadata": {},
   "source": [
    "Định dạng của giá tiền đang vừa là đ VND nó bị dư thừa do lúc crawl dữ liệu bị lỗi nên sẽ cần phải điều chỉnh lại là bỏ đi ký tự 'đ'. Nếu thích để 'đ' thì có thể bỏ đi 'VND' hoặc ngược lại tùy sở thích."
   ]
  },
  {
   "cell_type": "code",
   "execution_count": 32,
   "id": "8be7b9ed",
   "metadata": {},
   "outputs": [],
   "source": [
    "df['price'] = df['price'].str.replace('đ VND', '', regex=False).str.strip()"
   ]
  },
  {
   "cell_type": "code",
   "execution_count": 33,
   "id": "fd856681",
   "metadata": {},
   "outputs": [
    {
     "data": {
      "application/vnd.microsoft.datawrangler.viewer.v0+json": {
       "columns": [
        {
         "name": "index",
         "rawType": "int64",
         "type": "integer"
        },
        {
         "name": "title",
         "rawType": "object",
         "type": "string"
        },
        {
         "name": "price",
         "rawType": "object",
         "type": "string"
        },
        {
         "name": "image_url",
         "rawType": "object",
         "type": "string"
        },
        {
         "name": "description",
         "rawType": "object",
         "type": "string"
        },
        {
         "name": "main_category",
         "rawType": "object",
         "type": "string"
        },
        {
         "name": "sub_category",
         "rawType": "object",
         "type": "string"
        }
       ],
       "ref": "cc096d06-2dc0-473c-bda6-16fddb8a25b7",
       "rows": [
        [
         "1",
         "Matcha Burnt Cheesecake",
         "55000",
         "http://product.hstatic.net/1000075078/product/1743674607_matcha-burnt-cheesecake_2b4a68367fb64d0fb9bb7eed5ca116f7_grande.png",
         "Hòa quyện giữa phô mai béo ngậy và trà xanh đắng nhẹ, thơm lừng, tinh tế khó cưỡng.",
         "Bánh",
         "Bánh ngọt"
        ],
        [
         "2",
         "Burnt Cheesecake",
         "55000",
         "http://product.hstatic.net/1000075078/product/1743674500_burnt-cheesecake_3ca2f1483b034c3a9192a07e6b2f3b81_grande.png",
         "Phô mai béo mịn, thơm lừng với lớp vỏ cháy xém đặc trưng, tan chảy ngay đầu lưỡi.",
         "Bánh",
         "Bánh ngọt"
        ],
        [
         "3",
         "Latte Classic",
         "55000",
         "http://product.hstatic.net/1000075078/product/1746439218_latte-classic_e216596a8267420b9e55714322ac2d8f_grande.png",
         "Latte Đá là sự kết hợp hoàn hảo giữa espresso đậm đà và sữa tươi béo ngậy, tạo ra một hương vị dịu nhẹ, không quá đắng nhưng vẫn giữ được sự đậm đà của cà phê. Khi thêm đá lạnh, Latte Đá mang lại cảm giác mát lạnh, dễ uống, rất thích hợp cho những ngày nóng. Hương vị của sữa tươi hòa quyện với cà phê tạo nên một thức uống thơm ngon, thanh mát nhưng vẫn đầy đủ độ béo và sự ngọt nhẹ.",
         "Cà phê",
         "Cà phê máy"
        ],
        [
         "4",
         "Latte Bạc Xỉu",
         "49000",
         "http://product.hstatic.net/1000075078/product/1746441267_latte-bac-xiu_a6fe420fef6f4ec7a2e4f87e9e03ef4b_grande.png",
         "Latte Bạc Xỉu là sự kết hợp giữa Espresso, sữa tươi béo ngậy và cà phê phin đậm đà, tạo ra một hương vị vừa ngọt nhẹ, vừa đậm đà, dễ uống và mát lạnh.",
         "Cà phê",
         "Cà phê máy"
        ],
        [
         "5",
         "Latte Coconut",
         "59000",
         "http://product.hstatic.net/1000075078/product/1746441318_latte-coconut_1a5187bb0e9f4e8abe8898129d42f44d_grande.png",
         "Latte Coconut là sự kết hợp hoàn hảo giữa Espresso đậm đà, sữa tươi béo ngậy, nước cốt dừa thơm mát và sữa đặc ngọt ngào, tạo nên một hương vị béo ngậy, ngọt nhẹ và mát lạnh. Thức uống này mang đến cảm giác tươi mới và dễ chịu, với hương dừa đặc trưng hòa quyện cùng cà phê và sữa đặc tạo nên sự hoàn hảo.",
         "Cà phê",
         "Cà phê máy"
        ]
       ],
       "shape": {
        "columns": 6,
        "rows": 5
       }
      },
      "text/html": [
       "<div>\n",
       "<style scoped>\n",
       "    .dataframe tbody tr th:only-of-type {\n",
       "        vertical-align: middle;\n",
       "    }\n",
       "\n",
       "    .dataframe tbody tr th {\n",
       "        vertical-align: top;\n",
       "    }\n",
       "\n",
       "    .dataframe thead th {\n",
       "        text-align: right;\n",
       "    }\n",
       "</style>\n",
       "<table border=\"1\" class=\"dataframe\">\n",
       "  <thead>\n",
       "    <tr style=\"text-align: right;\">\n",
       "      <th></th>\n",
       "      <th>title</th>\n",
       "      <th>price</th>\n",
       "      <th>image_url</th>\n",
       "      <th>description</th>\n",
       "      <th>main_category</th>\n",
       "      <th>sub_category</th>\n",
       "    </tr>\n",
       "  </thead>\n",
       "  <tbody>\n",
       "    <tr>\n",
       "      <th>1</th>\n",
       "      <td>Matcha Burnt Cheesecake</td>\n",
       "      <td>55000</td>\n",
       "      <td>http://product.hstatic.net/1000075078/product/...</td>\n",
       "      <td>Hòa quyện giữa phô mai béo ngậy và trà xanh đắ...</td>\n",
       "      <td>Bánh</td>\n",
       "      <td>Bánh ngọt</td>\n",
       "    </tr>\n",
       "    <tr>\n",
       "      <th>2</th>\n",
       "      <td>Burnt Cheesecake</td>\n",
       "      <td>55000</td>\n",
       "      <td>http://product.hstatic.net/1000075078/product/...</td>\n",
       "      <td>Phô mai béo mịn, thơm lừng với lớp vỏ cháy xém...</td>\n",
       "      <td>Bánh</td>\n",
       "      <td>Bánh ngọt</td>\n",
       "    </tr>\n",
       "    <tr>\n",
       "      <th>3</th>\n",
       "      <td>Latte Classic</td>\n",
       "      <td>55000</td>\n",
       "      <td>http://product.hstatic.net/1000075078/product/...</td>\n",
       "      <td>Latte Đá là sự kết hợp hoàn hảo giữa espresso ...</td>\n",
       "      <td>Cà phê</td>\n",
       "      <td>Cà phê máy</td>\n",
       "    </tr>\n",
       "    <tr>\n",
       "      <th>4</th>\n",
       "      <td>Latte Bạc Xỉu</td>\n",
       "      <td>49000</td>\n",
       "      <td>http://product.hstatic.net/1000075078/product/...</td>\n",
       "      <td>Latte Bạc Xỉu là sự kết hợp giữa Espresso, sữa...</td>\n",
       "      <td>Cà phê</td>\n",
       "      <td>Cà phê máy</td>\n",
       "    </tr>\n",
       "    <tr>\n",
       "      <th>5</th>\n",
       "      <td>Latte Coconut</td>\n",
       "      <td>59000</td>\n",
       "      <td>http://product.hstatic.net/1000075078/product/...</td>\n",
       "      <td>Latte Coconut là sự kết hợp hoàn hảo giữa Espr...</td>\n",
       "      <td>Cà phê</td>\n",
       "      <td>Cà phê máy</td>\n",
       "    </tr>\n",
       "  </tbody>\n",
       "</table>\n",
       "</div>"
      ],
      "text/plain": [
       "                     title  price  \\\n",
       "1  Matcha Burnt Cheesecake  55000   \n",
       "2         Burnt Cheesecake  55000   \n",
       "3            Latte Classic  55000   \n",
       "4            Latte Bạc Xỉu  49000   \n",
       "5            Latte Coconut  59000   \n",
       "\n",
       "                                           image_url  \\\n",
       "1  http://product.hstatic.net/1000075078/product/...   \n",
       "2  http://product.hstatic.net/1000075078/product/...   \n",
       "3  http://product.hstatic.net/1000075078/product/...   \n",
       "4  http://product.hstatic.net/1000075078/product/...   \n",
       "5  http://product.hstatic.net/1000075078/product/...   \n",
       "\n",
       "                                         description main_category  \\\n",
       "1  Hòa quyện giữa phô mai béo ngậy và trà xanh đắ...          Bánh   \n",
       "2  Phô mai béo mịn, thơm lừng với lớp vỏ cháy xém...          Bánh   \n",
       "3  Latte Đá là sự kết hợp hoàn hảo giữa espresso ...        Cà phê   \n",
       "4  Latte Bạc Xỉu là sự kết hợp giữa Espresso, sữa...        Cà phê   \n",
       "5  Latte Coconut là sự kết hợp hoàn hảo giữa Espr...        Cà phê   \n",
       "\n",
       "  sub_category  \n",
       "1    Bánh ngọt  \n",
       "2    Bánh ngọt  \n",
       "3   Cà phê máy  \n",
       "4   Cà phê máy  \n",
       "5   Cà phê máy  "
      ]
     },
     "execution_count": 33,
     "metadata": {},
     "output_type": "execute_result"
    }
   ],
   "source": [
    "df.head()"
   ]
  },
  {
   "cell_type": "code",
   "execution_count": 35,
   "id": "d9f875b8",
   "metadata": {},
   "outputs": [],
   "source": [
    "for col in ['title', 'price', 'image_url', 'description', 'main_category', 'sub_category']:\n",
    "    df[col] = df[col].fillna('').astype(str)"
   ]
  },
  {
   "cell_type": "code",
   "execution_count": 38,
   "id": "6f6bc951",
   "metadata": {},
   "outputs": [],
   "source": [
    "df.to_csv(\"output_files/coffee_data.csv\", index=False)"
   ]
  },
  {
   "cell_type": "code",
   "execution_count": 39,
   "id": "c221fd93",
   "metadata": {},
   "outputs": [
    {
     "data": {
      "text/plain": [
       "np.int64(384)"
      ]
     },
     "execution_count": 39,
     "metadata": {},
     "output_type": "execute_result"
    }
   ],
   "source": [
    "max_length = df['description'].str.len().max()\n",
    "max_length"
   ]
  }
 ],
 "metadata": {
  "kernelspec": {
   "display_name": "chatbot-coffee",
   "language": "python",
   "name": "python3"
  },
  "language_info": {
   "codemirror_mode": {
    "name": "ipython",
    "version": 3
   },
   "file_extension": ".py",
   "mimetype": "text/x-python",
   "name": "python",
   "nbconvert_exporter": "python",
   "pygments_lexer": "ipython3",
   "version": "3.11.5"
  }
 },
 "nbformat": 4,
 "nbformat_minor": 5
}
